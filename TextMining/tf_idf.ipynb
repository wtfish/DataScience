{
  "cells": [
    {
      "cell_type": "markdown",
      "metadata": {
        "id": "pSdYtpug7Ldm"
      },
      "source": [
        "Implementasi TF-IDF\n",
        "By : Christian Arthur <br>\n",
        "Abstract 1 (https://j-ptiik.ub.ac.id/index.php/j-ptiik/article/view/11634/5166)\n",
        "Abstract 2 (https://j-ptiik.ub.ac.id/index.php/j-ptiik/article/view/11652/5176)"
      ]
    },
    {
      "cell_type": "code",
      "execution_count": null,
      "metadata": {
        "colab": {
          "base_uri": "https://localhost:8080/"
        },
        "id": "FQriJZjo7POI",
        "outputId": "dcff4cbf-4c21-4537-bbde-89fb1feed15a"
      },
      "outputs": [
        {
          "name": "stdout",
          "output_type": "stream",
          "text": [
            "Looking in indexes: https://pypi.org/simple, https://us-python.pkg.dev/colab-wheels/public/simple/\n",
            "Requirement already satisfied: Sastrawi in /usr/local/lib/python3.7/dist-packages (1.0.1)\n"
          ]
        }
      ],
      "source": [
        "from ctypes import resize\n",
        "import spacy\n",
        "import pandas\n",
        "import math\n",
        "nlp=spacy.blank(\"id\")"
      ]
    },
    {
      "cell_type": "code",
      "execution_count": null,
      "metadata": {
        "id": "zsEpXQ-Y7bUj"
      },
      "outputs": [],
      "source": [
        "abs1=\"Manfaat jersey dalam permainan sepak bola tidak hanya sekedar pakaian biasa, melainkan sebagai kaos yang dirancang khusus untuk kenyamanan pemain. Atribut seperti warna jersey dan nomer punggung sebagai informasi pembeda dengan pemain lainnya. Jika dalam permainan sepak bola, fungsi jersey dan atribut seperti kaos, bendera, warna, dan nomor punggung adalah sebagai pembeda dengan lawan main, justru sebagai penggemar menggunakan kaos dan atribut tersebut sebagai identitas. CV. Quattro Project adalah salah satu perusahaan produsen jersey yang bergerak dalam produksi dan pengadaan pakaian olahraga. Untuk menjaga kestailan usaha dan pembuatan perencanaan untuk bulan-bulan berikutnya maka CV. Quattro Proect membutuhkan suatu metode yang dapat memprediksi omzet dibulan selanjutnya, pada penelitian ini metode yang digunakan adalah regresi linier dan data yang digunakan adalah data history omzet setahun kebelakang. Dari pengujian yang telah dilakukan hampir setiap pengujian menghasilkan MAPE terbesar ketika digunakan untuk memprediksi omzet di bulan November 2021, MAPE yang dihasilkan sangat besar dikarenakan terdapat penurunan omzet yang signifikan dari bulan Oktober ke November. Tetapi, secara keseluruhan rata-rata yang dihasilkan baik karena MAPE-nya hanya 10.23201. itu berarti Regresi Linier adalah metode yang cukup baik digunakan untuk melakukan prediksi omzet terutama pada bisnis yang omzetnya cenderung stabil.\"\n",
        "abs2=\"SMK Negeri 5 Malang memiliki situs web resmi yang dibuat untuk membantu masyarakat mendapatkan informasi yang diperlukan tentang sekolah. Berdasarkan wawancara kepada salah satu penanggung jawab website sekolah yaitu Bapak Hendra Saputra, website diketahui bahwa tidak pernah ada evaluasi terkait User Interface, sehingga terdapat beberapa masalah seperti konten dan cara memberikan informasi, desain antarmuka yang kurang menarik. Penelitian ini menggunakan metode Heuristic Evaluation. Evaluasi heuristik adalah metode yang digunakan dalam melaksanakan penilaian usability. Heuristic evaluation mengkaitkan beberapa pakar ataupun expert selaku evaluator yang dapat menilai apakah suatu desain mematuhi aturan 10 prinsip usability yang diusulkan oleh Neilsen. Berdasarkan hasil evaluasi dengan 3 evalutor terdapat 12 masalah yang telah digabungkan dan terbagi kedalam 7 dari 10 prinsip heuristik. Berdasarkan 12 temuan masalah terdapat persentase penemuan permasalahan paling banyak merupakan prinsip Aesthetic and Minimalist Design (H-8) dengan 40% dari segala penemuan permasalahan. Sebaliknya prinsip heuristik yang mempunyai severity rating paling tinggi pada prinsip heuristik Recognation Rather than Recall (H-6) memiliki tingkat severity rating sebesar 4 dan berkategori mayor\""
      ]
    },
    {
      "cell_type": "code",
      "execution_count": null,
      "metadata": {
        "id": "KjwraMHi7rL_"
      },
      "outputs": [],
      "source": [
        "abs1=str.lower(abs1)\n",
        "abs2=str.lower(abs2)"
      ]
    },
    {
      "cell_type": "code",
      "execution_count": null,
      "metadata": {
        "id": "SSe9qtzD71R8"
      },
      "outputs": [],
      "source": [
        "term1=[]\n",
        "term2=[]"
      ]
    },
    {
      "cell_type": "code",
      "execution_count": null,
      "metadata": {
        "id": "jfUb_D5q80L3"
      },
      "outputs": [],
      "source": [
        "for word in nlp(abs1):\n",
        "    # Filtering(menghilangkan tanda baca dan stop word)\n",
        "    if not word.is_punct and not word.is_stop and not word.is_digit:\n",
        "        term1.append(word.text)\n",
        "for word in nlp(abs2):\n",
        "    # Filtering(menghilangkan tanda baca dan stop word)\n",
        "    if not word.is_punct and not word.is_stop and not word.is_digit:\n",
        "        term2.append(word.text)"
      ]
    },
    {
      "cell_type": "code",
      "execution_count": null,
      "metadata": {
        "id": "rUDSWx4_9DS-"
      },
      "outputs": [],
      "source": [
        "# lemma \n",
        "from Sastrawi.Stemmer.StemmerFactory import StemmerFactory\n",
        "factory = StemmerFactory()\n",
        "stemmer = factory.create_stemmer()"
      ]
    },
    {
      "cell_type": "code",
      "execution_count": null,
      "metadata": {
        "id": "DOC2Mwve_scb"
      },
      "outputs": [],
      "source": [
        "term1= [stemmer.stem(token) for token in term1]\n",
        "term2= [stemmer.stem(token) for token in term2]"
      ]
    },
    {
      "cell_type": "code",
      "execution_count": null,
      "metadata": {
        "colab": {
          "base_uri": "https://localhost:8080/"
        },
        "id": "3JoxpO3FAFIM",
        "outputId": "7c35525c-0d7c-4255-e61e-2bd53a391fca"
      },
      "outputs": [
        {
          "name": "stdout",
          "output_type": "stream",
          "text": [
            "unique doc 1 : 64 unique doc 2 : 65 \n"
          ]
        }
      ],
      "source": [
        "unik1=set(term1)\n",
        "unik2=set(term2)\n",
        "print(\"unique doc 1 : {} unique doc 2 : {} \".format(len(unik1),len(unik2)))"
      ]
    },
    {
      "cell_type": "code",
      "execution_count": null,
      "metadata": {
        "id": "ZkiVr3MOBkBZ"
      },
      "outputs": [],
      "source": [
        "words=unik1.union(unik2)"
      ]
    },
    {
      "cell_type": "code",
      "execution_count": null,
      "metadata": {
        "colab": {
          "base_uri": "https://localhost:8080/"
        },
        "id": "2lqme_bXrudJ",
        "outputId": "2a7d7ad7-bb8b-47bf-c7fc-8e9ee6e7f570"
      },
      "outputs": [
        {
          "data": {
            "text/plain": [
              "{'-nya',\n",
              " '10 23201',\n",
              " '8',\n",
              " 'ada',\n",
              " 'aesthetic',\n",
              " 'and',\n",
              " 'antarmuka',\n",
              " 'atribut',\n",
              " 'atur',\n",
              " 'bagi',\n",
              " 'bantu',\n",
              " 'beda',\n",
              " 'belakang',\n",
              " 'bendera',\n",
              " 'besar',\n",
              " 'bisnis',\n",
              " 'bola',\n",
              " 'buat',\n",
              " 'bulan',\n",
              " 'butuh',\n",
              " 'cenderung',\n",
              " 'cv',\n",
              " 'dalam',\n",
              " 'dar',\n",
              " 'dasar',\n",
              " 'data',\n",
              " 'desain',\n",
              " 'design',\n",
              " 'evaluasi',\n",
              " 'evaluation',\n",
              " 'evaluator',\n",
              " 'evalutor',\n",
              " 'expert',\n",
              " 'fungsi',\n",
              " 'gabung',\n",
              " 'gemar',\n",
              " 'gerak',\n",
              " 'h',\n",
              " 'hasil',\n",
              " 'hendra',\n",
              " 'heuristic',\n",
              " 'heuristik',\n",
              " 'history',\n",
              " 'identitas',\n",
              " 'informasi',\n",
              " 'interface',\n",
              " 'jaga',\n",
              " 'jersey',\n",
              " 'kait',\n",
              " 'kaos',\n",
              " 'kategori',\n",
              " 'kestailan',\n",
              " 'khusus',\n",
              " 'konten',\n",
              " 'laksana',\n",
              " 'lawan',\n",
              " 'linier',\n",
              " 'main',\n",
              " 'malang',\n",
              " 'manfaat',\n",
              " 'mape',\n",
              " 'masalah',\n",
              " 'masyarakat',\n",
              " 'mayor',\n",
              " 'metode',\n",
              " 'milik',\n",
              " 'minimalist',\n",
              " 'negeri',\n",
              " 'neilsen',\n",
              " 'nilai',\n",
              " 'nomer',\n",
              " 'nomor',\n",
              " 'november',\n",
              " 'nyaman',\n",
              " 'oktober',\n",
              " 'olahraga',\n",
              " 'omzet',\n",
              " 'pakai',\n",
              " 'pakar',\n",
              " 'patuh',\n",
              " 'persentase',\n",
              " 'prediksi',\n",
              " 'prinsip',\n",
              " 'produksi',\n",
              " 'produsen',\n",
              " 'proect',\n",
              " 'project',\n",
              " 'punggung',\n",
              " 'quattro',\n",
              " 'rancang',\n",
              " 'rata',\n",
              " 'rather',\n",
              " 'rating',\n",
              " 'recall',\n",
              " 'recognation',\n",
              " 'regresi',\n",
              " 'rencana',\n",
              " 'resmi',\n",
              " 'salah',\n",
              " 'saputra',\n",
              " 'sekolah',\n",
              " 'sepak',\n",
              " 'severity',\n",
              " 'signifikan',\n",
              " 'situs',\n",
              " 'smk',\n",
              " 'stabil',\n",
              " 'tahun',\n",
              " 'tanggung',\n",
              " 'tarik',\n",
              " 'teliti',\n",
              " 'temu',\n",
              " 'than',\n",
              " 'tingkat',\n",
              " 'turun',\n",
              " 'uji',\n",
              " 'usability',\n",
              " 'usaha',\n",
              " 'user',\n",
              " 'usul',\n",
              " 'warna',\n",
              " 'wawancara',\n",
              " 'web',\n",
              " 'website'}"
            ]
          },
          "execution_count": 86,
          "metadata": {},
          "output_type": "execute_result"
        }
      ],
      "source": [
        "words"
      ]
    },
    {
      "cell_type": "code",
      "execution_count": null,
      "metadata": {
        "id": "NaI99DgnGX9v"
      },
      "outputs": [],
      "source": [
        "# create new dict to satisfy pandas\n",
        "rawTerm_doc1=dict.fromkeys(words,0)\n",
        "rawTerm_doc2=dict.fromkeys(words,0)"
      ]
    },
    {
      "cell_type": "code",
      "execution_count": null,
      "metadata": {
        "id": "uq3aDsOyONwm"
      },
      "outputs": [],
      "source": [
        "# raw process\n",
        "# doc 1\n",
        "for token in term1:\n",
        "    rawTerm_doc1[token]+=1\n",
        "for token in term2:\n",
        "    rawTerm_doc2[token]+=1\n"
      ]
    },
    {
      "cell_type": "code",
      "execution_count": null,
      "metadata": {
        "colab": {
          "base_uri": "https://localhost:8080/"
        },
        "id": "tUc6zOmmq3-Z",
        "outputId": "3cdfd400-f3a0-4676-cdad-41a9725428bf"
      },
      "outputs": [
        {
          "data": {
            "text/plain": [
              "{'evalutor': 0,\n",
              " 'minimalist': 0,\n",
              " 'nomer': 1,\n",
              " 'negeri': 0,\n",
              " 'kategori': 0,\n",
              " 'sepak': 2,\n",
              " 'identitas': 1,\n",
              " 'masalah': 0,\n",
              " 'pakai': 2,\n",
              " 'website': 0,\n",
              " 'stabil': 1,\n",
              " 'quattro': 2,\n",
              " 'manfaat': 1,\n",
              " 'tarik': 0,\n",
              " 'usability': 0,\n",
              " 'punggung': 2,\n",
              " 'patuh': 0,\n",
              " 'evaluasi': 0,\n",
              " 'rather': 0,\n",
              " 'data': 2,\n",
              " 'main': 5,\n",
              " 'than': 0,\n",
              " 'konten': 0,\n",
              " 'severity': 0,\n",
              " 'neilsen': 0,\n",
              " 'salah': 1,\n",
              " 'temu': 0,\n",
              " 'tahun': 1,\n",
              " 'heuristik': 0,\n",
              " 'bendera': 1,\n",
              " 'besar': 1,\n",
              " 'web': 0,\n",
              " 'omzet': 6,\n",
              " 'bulan': 2,\n",
              " 'aesthetic': 0,\n",
              " 'proect': 1,\n",
              " 'nomor': 1,\n",
              " 'bola': 2,\n",
              " 'signifikan': 1,\n",
              " 'prinsip': 0,\n",
              " 'tingkat': 0,\n",
              " 'laksana': 0,\n",
              " 'teliti': 1,\n",
              " 'beda': 2,\n",
              " 'recognation': 0,\n",
              " 'usaha': 2,\n",
              " 'tanggung': 0,\n",
              " 'kait': 0,\n",
              " 'pakar': 0,\n",
              " 'khusus': 1,\n",
              " 'lawan': 1,\n",
              " 'gabung': 0,\n",
              " 'persentase': 0,\n",
              " 'cenderung': 1,\n",
              " 'history': 1,\n",
              " 'linier': 2,\n",
              " 'atur': 0,\n",
              " 'antarmuka': 0,\n",
              " 'turun': 1,\n",
              " 'hendra': 0,\n",
              " 'desain': 0,\n",
              " 'smk': 0,\n",
              " 'situs': 0,\n",
              " 'bantu': 0,\n",
              " 'nilai': 0,\n",
              " 'olahraga': 1,\n",
              " 'rencana': 1,\n",
              " '10 23201': 1,\n",
              " 'interface': 0,\n",
              " 'atribut': 3,\n",
              " 'dar': 1,\n",
              " 'hasil': 3,\n",
              " 'recall': 0,\n",
              " 'cv': 2,\n",
              " 'milik': 0,\n",
              " 'evaluation': 0,\n",
              " 'wawancara': 0,\n",
              " 'butuh': 1,\n",
              " 'masyarakat': 0,\n",
              " 'oktober': 1,\n",
              " 'malang': 0,\n",
              " 'produksi': 1,\n",
              " 'nyaman': 1,\n",
              " 'belakang': 1,\n",
              " 'user': 0,\n",
              " 'bagi': 0,\n",
              " 'metode': 3,\n",
              " 'project': 1,\n",
              " 'h': 0,\n",
              " 'dalam': 0,\n",
              " 'jaga': 1,\n",
              " 'heuristic': 0,\n",
              " 'produsen': 1,\n",
              " 'kestailan': 1,\n",
              " 'fungsi': 1,\n",
              " 'kaos': 3,\n",
              " 'prediksi': 3,\n",
              " 'regresi': 2,\n",
              " 'november': 2,\n",
              " 'mape': 3,\n",
              " 'evaluator': 0,\n",
              " 'rancang': 1,\n",
              " 'uji': 2,\n",
              " 'jersey': 4,\n",
              " 'ada': 1,\n",
              " 'saputra': 0,\n",
              " 'warna': 2,\n",
              " '-nya': 1,\n",
              " 'and': 0,\n",
              " 'resmi': 0,\n",
              " 'dasar': 0,\n",
              " 'gemar': 1,\n",
              " 'gerak': 1,\n",
              " 'expert': 0,\n",
              " 'sekolah': 0,\n",
              " 'informasi': 1,\n",
              " 'mayor': 0,\n",
              " 'bisnis': 1,\n",
              " 'rating': 0,\n",
              " '8': 0,\n",
              " 'usul': 0,\n",
              " 'buat': 1,\n",
              " 'rata': 1,\n",
              " 'design': 0}"
            ]
          },
          "execution_count": 89,
          "metadata": {},
          "output_type": "execute_result"
        }
      ],
      "source": [
        "rawTerm_doc1"
      ]
    },
    {
      "cell_type": "code",
      "execution_count": null,
      "metadata": {
        "colab": {
          "base_uri": "https://localhost:8080/"
        },
        "id": "jriFCC19Np-t",
        "outputId": "6e85ea13-4bc4-44c7-9a28-d1b6127c8558"
      },
      "outputs": [
        {
          "data": {
            "text/plain": [
              "[0,\n",
              " 0,\n",
              " 1,\n",
              " 0,\n",
              " 0,\n",
              " 2,\n",
              " 1,\n",
              " 0,\n",
              " 2,\n",
              " 0,\n",
              " 1,\n",
              " 2,\n",
              " 1,\n",
              " 0,\n",
              " 0,\n",
              " 2,\n",
              " 0,\n",
              " 0,\n",
              " 0,\n",
              " 2,\n",
              " 5,\n",
              " 0,\n",
              " 0,\n",
              " 0,\n",
              " 0,\n",
              " 1,\n",
              " 0,\n",
              " 1,\n",
              " 0,\n",
              " 1,\n",
              " 1,\n",
              " 0,\n",
              " 6,\n",
              " 2,\n",
              " 0,\n",
              " 1,\n",
              " 1,\n",
              " 2,\n",
              " 1,\n",
              " 0,\n",
              " 0,\n",
              " 0,\n",
              " 1,\n",
              " 2,\n",
              " 0,\n",
              " 2,\n",
              " 0,\n",
              " 0,\n",
              " 0,\n",
              " 1,\n",
              " 1,\n",
              " 0,\n",
              " 0,\n",
              " 1,\n",
              " 1,\n",
              " 2,\n",
              " 0,\n",
              " 0,\n",
              " 1,\n",
              " 0,\n",
              " 0,\n",
              " 0,\n",
              " 0,\n",
              " 0,\n",
              " 0,\n",
              " 1,\n",
              " 1,\n",
              " 1,\n",
              " 0,\n",
              " 3,\n",
              " 1,\n",
              " 3,\n",
              " 0,\n",
              " 2,\n",
              " 0,\n",
              " 0,\n",
              " 0,\n",
              " 1,\n",
              " 0,\n",
              " 1,\n",
              " 0,\n",
              " 1,\n",
              " 1,\n",
              " 1,\n",
              " 0,\n",
              " 0,\n",
              " 3,\n",
              " 1,\n",
              " 0,\n",
              " 0,\n",
              " 1,\n",
              " 0,\n",
              " 1,\n",
              " 1,\n",
              " 1,\n",
              " 3,\n",
              " 3,\n",
              " 2,\n",
              " 2,\n",
              " 3,\n",
              " 0,\n",
              " 1,\n",
              " 2,\n",
              " 4,\n",
              " 1,\n",
              " 0,\n",
              " 2,\n",
              " 1,\n",
              " 0,\n",
              " 0,\n",
              " 0,\n",
              " 1,\n",
              " 1,\n",
              " 0,\n",
              " 0,\n",
              " 1,\n",
              " 0,\n",
              " 1,\n",
              " 0,\n",
              " 0,\n",
              " 0,\n",
              " 1,\n",
              " 1,\n",
              " 0]"
            ]
          },
          "execution_count": 90,
          "metadata": {},
          "output_type": "execute_result"
        }
      ],
      "source": [
        "list(rawTerm_doc1.values())"
      ]
    },
    {
      "cell_type": "code",
      "execution_count": null,
      "metadata": {
        "id": "rn8uGtmJE7lN"
      },
      "outputs": [],
      "source": [
        "df=pandas.DataFrame({\"frekuensi_dokumen_1\":list(rawTerm_doc1.values()),\"frekuensi_dokumen_2\":list(rawTerm_doc2.values())},index=[list(rawTerm_doc1.keys())])\n",
        "df.to_excel(\"tf.xlsx\")"
      ]
    },
    {
      "cell_type": "code",
      "execution_count": null,
      "metadata": {
        "id": "XAGw7pBpuwri"
      },
      "outputs": [],
      "source": [
        "# log frequency\n",
        "dok1_log=[0 if i == 0 else float(1+math.log10(float(i))) for i in list(rawTerm_doc1.values())]\n",
        "dok2_log=[0 if i == 0 else float(1+math.log10(float(i))) for i in list(rawTerm_doc2.values())]"
      ]
    },
    {
      "cell_type": "code",
      "execution_count": null,
      "metadata": {
        "id": "7btLheSNzH_x"
      },
      "outputs": [],
      "source": [
        "df=pandas.DataFrame({\"frekuensi_dokumen_1\":list(rawTerm_doc1.values()),\n",
        "                     \"frekuensi_dokumen_2\":list(rawTerm_doc2.values()),\n",
        "                     \"log_frekuensi_dokumen_1\":dok1_log,\n",
        "                     \"log_frekuensi_dokumen_2\":dok2_log},\n",
        "                    index=[list(rawTerm_doc1.keys())])\n",
        "df.to_excel(\"log_freq.xlsx\")"
      ]
    },
    {
      "cell_type": "code",
      "execution_count": null,
      "metadata": {
        "id": "lFYXv035HgOR"
      },
      "outputs": [],
      "source": [
        "# document frequency\n",
        "doc_freq=[0]*len(list(rawTerm_doc1.keys()))\n",
        "for i in range(len(list(dok1_log))):\n",
        "  doc1=(dok1_log[i]!=0)\n",
        "  doc2=(dok2_log[i]!=0)\n",
        "  doc_freq[i]=doc1+doc2\n"
      ]
    },
    {
      "cell_type": "code",
      "execution_count": null,
      "metadata": {
        "id": "IOkRbqfr2vYv"
      },
      "outputs": [],
      "source": [
        "df=pandas.DataFrame({\"frekuensi_dokumen_1\":list(rawTerm_doc1.values()),\n",
        "                     \"frekuensi_dokumen_2\":list(rawTerm_doc2.values()),\n",
        "                     \"log_frekuensi_dokumen_1\":dok1_log,\n",
        "                     \"log_frekuensi_dokumen_2\":dok2_log,\n",
        "                     \"df\":doc_freq},\n",
        "                    index=[list(rawTerm_doc1.keys())])\n",
        "df.to_excel(\"doc_freq.xlsx\")"
      ]
    },
    {
      "cell_type": "code",
      "execution_count": null,
      "metadata": {
        "colab": {
          "base_uri": "https://localhost:8080/"
        },
        "id": "Yq7uV_Uu5Zuy",
        "outputId": "5b95f6f3-520f-483a-979c-46c4460c6375"
      },
      "outputs": [
        {
          "name": "stdout",
          "output_type": "stream",
          "text": [
            "0.3010299956639812\n",
            "0.3010299956639812\n",
            "0.3010299956639812\n",
            "0.3010299956639812\n",
            "0.3010299956639812\n",
            "0.3010299956639812\n",
            "0.3010299956639812\n",
            "0.3010299956639812\n",
            "0.3010299956639812\n",
            "0.3010299956639812\n",
            "0.3010299956639812\n",
            "0.3010299956639812\n",
            "0.3010299956639812\n",
            "0.3010299956639812\n",
            "0.3010299956639812\n",
            "0.3010299956639812\n",
            "0.3010299956639812\n",
            "0.3010299956639812\n",
            "0.3010299956639812\n",
            "0.3010299956639812\n",
            "0.3010299956639812\n",
            "0.3010299956639812\n",
            "0.3010299956639812\n",
            "0.3010299956639812\n",
            "0.3010299956639812\n",
            "0.0\n",
            "0.3010299956639812\n",
            "0.3010299956639812\n",
            "0.3010299956639812\n",
            "0.3010299956639812\n",
            "0.3010299956639812\n",
            "0.3010299956639812\n",
            "0.3010299956639812\n",
            "0.3010299956639812\n",
            "0.3010299956639812\n",
            "0.3010299956639812\n",
            "0.3010299956639812\n",
            "0.3010299956639812\n",
            "0.3010299956639812\n",
            "0.3010299956639812\n",
            "0.3010299956639812\n",
            "0.3010299956639812\n",
            "0.0\n",
            "0.3010299956639812\n",
            "0.3010299956639812\n",
            "0.3010299956639812\n",
            "0.3010299956639812\n",
            "0.3010299956639812\n",
            "0.3010299956639812\n",
            "0.3010299956639812\n",
            "0.3010299956639812\n",
            "0.3010299956639812\n",
            "0.3010299956639812\n",
            "0.3010299956639812\n",
            "0.3010299956639812\n",
            "0.3010299956639812\n",
            "0.3010299956639812\n",
            "0.3010299956639812\n",
            "0.3010299956639812\n",
            "0.3010299956639812\n",
            "0.3010299956639812\n",
            "0.3010299956639812\n",
            "0.3010299956639812\n",
            "0.3010299956639812\n",
            "0.3010299956639812\n",
            "0.3010299956639812\n",
            "0.3010299956639812\n",
            "0.3010299956639812\n",
            "0.3010299956639812\n",
            "0.3010299956639812\n",
            "0.3010299956639812\n",
            "0.0\n",
            "0.3010299956639812\n",
            "0.3010299956639812\n",
            "0.3010299956639812\n",
            "0.3010299956639812\n",
            "0.3010299956639812\n",
            "0.3010299956639812\n",
            "0.3010299956639812\n",
            "0.3010299956639812\n",
            "0.3010299956639812\n",
            "0.3010299956639812\n",
            "0.3010299956639812\n",
            "0.3010299956639812\n",
            "0.3010299956639812\n",
            "0.3010299956639812\n",
            "0.0\n",
            "0.3010299956639812\n",
            "0.3010299956639812\n",
            "0.3010299956639812\n",
            "0.3010299956639812\n",
            "0.3010299956639812\n",
            "0.3010299956639812\n",
            "0.3010299956639812\n",
            "0.3010299956639812\n",
            "0.3010299956639812\n",
            "0.3010299956639812\n",
            "0.3010299956639812\n",
            "0.3010299956639812\n",
            "0.3010299956639812\n",
            "0.3010299956639812\n",
            "0.3010299956639812\n",
            "0.3010299956639812\n",
            "0.3010299956639812\n",
            "0.3010299956639812\n",
            "0.3010299956639812\n",
            "0.3010299956639812\n",
            "0.3010299956639812\n",
            "0.3010299956639812\n",
            "0.3010299956639812\n",
            "0.3010299956639812\n",
            "0.3010299956639812\n",
            "0.3010299956639812\n",
            "0.3010299956639812\n",
            "0.3010299956639812\n",
            "0.0\n",
            "0.3010299956639812\n",
            "0.3010299956639812\n",
            "0.3010299956639812\n",
            "0.3010299956639812\n",
            "0.3010299956639812\n",
            "0.3010299956639812\n",
            "0.3010299956639812\n",
            "0.3010299956639812\n"
          ]
        }
      ],
      "source": [
        "# idf\n",
        "idf=[0]*len(list(rawTerm_doc1.keys()))\n",
        "for i in range(len(list(dok1_log))):\n",
        "  print(math.log10(2/doc_freq[i]))\n",
        "  idf[i]=math.log10(2/doc_freq[i])\n"
      ]
    },
    {
      "cell_type": "code",
      "execution_count": null,
      "metadata": {
        "id": "OLTi96QU6iXt"
      },
      "outputs": [],
      "source": [
        "df=pandas.DataFrame({\"frekuensi_dokumen_1\":list(rawTerm_doc1.values()),\n",
        "                     \"frekuensi_dokumen_2\":list(rawTerm_doc2.values()),\n",
        "                     \"log_frekuensi_dokumen_1\":dok1_log,\n",
        "                     \"log_frekuensi_dokumen_2\":dok2_log,\n",
        "                     \"df\":doc_freq,\n",
        "                     \"idf_dokumen\":idf},\n",
        "                    index=[list(rawTerm_doc1.keys())])\n",
        "df.to_excel(\"idf.xlsx\")"
      ]
    }
  ],
  "metadata": {
    "colab": {
      "collapsed_sections": [],
      "provenance": []
    },
    "kernelspec": {
      "display_name": "Python 3",
      "name": "python3"
    },
    "language_info": {
      "name": "python"
    }
  },
  "nbformat": 4,
  "nbformat_minor": 0
}
