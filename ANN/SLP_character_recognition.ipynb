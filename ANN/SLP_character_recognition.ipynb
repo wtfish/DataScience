{
 "cells": [
  {
   "cell_type": "code",
   "execution_count": 27,
   "metadata": {},
   "outputs": [],
   "source": [
    "import numpy as np"
   ]
  },
  {
   "cell_type": "code",
   "execution_count": 28,
   "metadata": {},
   "outputs": [],
   "source": [
    "def draw(tuple):\n",
    "    for alphabet in tuple:\n",
    "        counter=0\n",
    "        for idx,char in enumerate(alphabet):\n",
    "            counter+=1;\n",
    "            if(char==-1):\n",
    "                print(\" . \",end = \"\")\n",
    "            else:\n",
    "                print(\" # \",end=\"\")\n",
    "            if(counter==7):\n",
    "                print(\"\")\n",
    "                counter=0\n",
    "        print()"
   ]
  },
  {
   "cell_type": "code",
   "execution_count": 29,
   "metadata": {},
   "outputs": [],
   "source": [
    "def activation(y_in,treshold):\n",
    "    if y_in>treshold:\n",
    "        return 1\n",
    "    elif y_in<(treshold*-1):\n",
    "        return -1\n",
    "    else: return 0\n"
   ]
  },
  {
   "cell_type": "code",
   "execution_count": 58,
   "metadata": {},
   "outputs": [],
   "source": [
    "def predict(X, w):\n",
    "    Y = []\n",
    "    for x in X:\n",
    "        y_in = w[0] + np.dot(x, w[1:])\n",
    "        y = activation(y_in,0.1)\n",
    "        Y.append(y)\n",
    "    return Y"
   ]
  },
  {
   "cell_type": "code",
   "execution_count": 61,
   "metadata": {},
   "outputs": [],
   "source": [
    "def slp_train(input,target,alpha,treshold):\n",
    "    epoch=0\n",
    "    w = np.zeros(len(input[0]) + 1) #index ke 0 adalah bias\n",
    "    result=np.zeros(len(input))\n",
    "    while any(result!=target): #jika hasil y_out = target \n",
    "        epoch+=1\n",
    "        # print(\"EPOCH KE-\",epoch)\n",
    "        for i, row in enumerate(input):\n",
    "            y_in = w[0] + np.dot(input[i], w[1:])\n",
    "            y_out= activation(y_in,treshold)\n",
    "            result[i]=y_out\n",
    "            # print(\"Y_in : {}, y_out : {}, target : {},correct = {}\".format(y_in,y_out,target[i],y_out==target[i]))\n",
    "            if(y_out!=target[i]): #jika salah\n",
    "                w[0]=w[0]+(alpha*target[i]) #change the bias\n",
    "                for index in range(len(row)):\n",
    "                    w[index+1]=w[index+1]+(alpha*target[i]*row[index])\n",
    "    return w\n",
    "                \n"
   ]
  },
  {
   "cell_type": "code",
   "execution_count": 65,
   "metadata": {},
   "outputs": [],
   "source": [
    "def slp(input,target,alpha,treshold):\n",
    "    characters=list(set(target))\n",
    "    models=dict.fromkeys(characters)\n",
    "    for char in characters:\n",
    "        # print(char,\"=\",[1 if i==char else -1 for i in target])\n",
    "        models[char]=slp_train(input,[1 if i==char else -1 for i in target],alpha,treshold)\n",
    "    return models"
   ]
  },
  {
   "cell_type": "code",
   "execution_count": 75,
   "metadata": {},
   "outputs": [],
   "source": [
    "def predict_alphabet(input,model:dict):\n",
    "    for index,row in enumerate(input):\n",
    "        for alpha in model.keys():\n",
    "            y_in = model[alpha][0] + np.dot(row, model[alpha][1:])\n",
    "            y = activation(y_in,0.1)\n",
    "            if y==1:\n",
    "                print(\"ke input {} sebagai {}\".format(index,alpha))\n",
    "            \n",
    "    print()"
   ]
  },
  {
   "cell_type": "code",
   "execution_count": 66,
   "metadata": {},
   "outputs": [
    {
     "name": "stdout",
     "output_type": "stream",
     "text": [
      "[-8.  2.  3.  4.]\n"
     ]
    }
   ],
   "source": [
    "dataset=(1,1,1),(1,1,0),(1,0,1),(0,1,1)\n",
    "target=1,-1,-1,-1\n",
    "alpha=1\n",
    "treshold=0.1\n",
    "dataset[1]\n",
    "model=slp_train(dataset,target,alpha,treshold)\n",
    "print(model)"
   ]
  },
  {
   "cell_type": "code",
   "execution_count": 77,
   "metadata": {},
   "outputs": [
    {
     "name": "stdout",
     "output_type": "stream",
     "text": [
      "ke input 0 sebagai A\n",
      "ke input 1 sebagai B\n",
      "ke input 2 sebagai C\n",
      "ke input 3 sebagai D\n",
      "ke input 4 sebagai E\n",
      "ke input 5 sebagai J\n",
      "ke input 6 sebagai K\n",
      "\n"
     ]
    }
   ],
   "source": [
    "test_font1=(-1,-1,1,1,-1,-1,-1,\n",
    "       -1,-1,1,1,-1,-1,-1,\n",
    "       -1,-1,-1,1,-1,-1,-1,\n",
    "       -1,-1,1,-1,1,1,-1,\n",
    "       -1,-1,1,-1,1,-1,-1,\n",
    "       -1,1,1,1,1,1,-1,\n",
    "       -1,1,-1,1,-1,1,-1,\n",
    "       -1,1,-1,-1,-1,1,-1,\n",
    "       1,1,1,-1,1,1,1\n",
    "       ),(\n",
    "        1,1,1,1,1,1,-1,\n",
    "       -1,1,-1,-1,-1,-1,1,\n",
    "       -1,1,-1,-1,-1,-1,1,\n",
    "       -1,1,1,-1,-1,-1,1,\n",
    "       -1,1,1,1,1,1,-1,\n",
    "       -1,1,-1,1,-1,-1,1,\n",
    "       -1,1,1,-1,-1,-1,1,\n",
    "       -1,1,-1,-1,-1,-1,1,\n",
    "        1,1,1,1,1,1,-1\n",
    "        ),(\n",
    "       -1,-1,1,1,1,1,1,\n",
    "        1,1,-1,-1,1,-1,1,\n",
    "        1,-1,-1,-1,-1,-1,-1,\n",
    "        1,1,-1,-1,-1,-1,-1,\n",
    "        1,-1,-1,-1,-1,-1,-1,\n",
    "        1,-1,-1,-1,-1,-1,-1,\n",
    "        1,-1,-1,-1,-1,-1,-1,\n",
    "        -1,1,-1,-1,1,-1,1,\n",
    "        -1,-1,1,1,1,1,-1\n",
    "       ),(\n",
    "        1,1,1,1,1,-1,-1,\n",
    "       -1,1,-1,1,-1,1,-1,\n",
    "       -1,1,-1,-1,-1,-1,1,\n",
    "       -1,1,1,-1,-1,-1,1,\n",
    "       -1,1,-1,-1,-1,-1,1,\n",
    "       -1,1,-1,-1,-1,-1,1,\n",
    "       -1,1,-1,-1,-1,-1,1,\n",
    "       -1,1,1,-1,-1,1,-1,\n",
    "        1,1,1,1,1,-1,-1\n",
    "       ),(\n",
    "         1,1,1,1,1,1,1,\n",
    "        -1,1,-1,-1,-1,-1,1,\n",
    "        -1,1,-1,-1,-1,-1,-1,\n",
    "        -1,1,-1,1,-1,-1,-1,\n",
    "        -1,1,1,1,1,-1,-1,\n",
    "        -1,1,-1,1,-1,-1,-1,\n",
    "        -1,1,-1,-1,-1,-1,-1,\n",
    "        1,1,-1,1,-1,-1,1,\n",
    "        1,1,1,1,1,1,1\n",
    "       ),(\n",
    "         -1,-1,-1,1,1,1,1,\n",
    "         -1,-1,-1,-1,-1,1,-1,\n",
    "         -1,-1,-1,-1,-1,1,-1,\n",
    "         -1,-1,-1,-1,-1,1,-1,\n",
    "         -1,-1,-1,-1,-1,1,-1,\n",
    "         -1,-1,-1,-1,-1,1,-1,\n",
    "         -1,1,-1,-1,-1,1,-1,\n",
    "         -1,1,-1,-1,1,1,-1,\n",
    "         -1,-1,1,1,1,-1,-1,\n",
    "       ),(\n",
    "          1,1,1,-1,-1,1,1,\n",
    "          -1,1,-1,-1,1,-1,-1,\n",
    "          -1,1,-1,1,-1,-1,-1,\n",
    "          -1,1,1,-1,-1,-1,-1,\n",
    "          -1,1,1,-1,-1,-1,-1,\n",
    "          -1,1,-1,1,-1,-1,-1,\n",
    "          -1,1,-1,-1,1,1,-1,\n",
    "          -1,1,1,-1,-1,1,-1,\n",
    "          1,1,1,-1,-1,1,-1,\n",
    "       )\n",
    "target='A','B','C','D','E','J','K'\n",
    "alpha=1\n",
    "treshold=0.1\n",
    "models=slp(test_font1,target,alpha,treshold)\n",
    "models\n",
    "predict_alphabet(test_font1,models)"
   ]
  }
 ],
 "metadata": {
  "kernelspec": {
   "display_name": "Python 3.9.12 ('base')",
   "language": "python",
   "name": "python3"
  },
  "language_info": {
   "codemirror_mode": {
    "name": "ipython",
    "version": 3
   },
   "file_extension": ".py",
   "mimetype": "text/x-python",
   "name": "python",
   "nbconvert_exporter": "python",
   "pygments_lexer": "ipython3",
   "version": "3.9.12"
  },
  "orig_nbformat": 4,
  "vscode": {
   "interpreter": {
    "hash": "ff4f85d6e04298634172ac5d8264e7e9b556b95639fe52ebb9425c4d4cba0c9c"
   }
  }
 },
 "nbformat": 4,
 "nbformat_minor": 2
}
